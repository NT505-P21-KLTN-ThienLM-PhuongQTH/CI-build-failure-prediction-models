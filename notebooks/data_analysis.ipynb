{
 "cells": [
  {
   "metadata": {},
   "cell_type": "markdown",
   "source": "# 1. Import and configure",
   "id": "ce90fcb8fd5a1612"
  },
  {
   "metadata": {},
   "cell_type": "code",
   "source": [
    "import os\n",
    "import pandas as pd\n",
    "import numpy as np\n",
    "import logging\n",
    "from src.data.processing import load_data, process_status, summarize_projects, fill_nan_values, encode_categorical_columns, normalize_numerical_columns, encode_cyclical_time_features, save_projects_to_files, drop_low_importance_features, add_build_features\n",
    "from src.data.visualization import plot_line, plot_pie, plot_multi_project, plot_feature_importance\n",
    "from src.data.feature_analysis import prepare_features, print_nan_columns, aggregate_feature_importance\n",
    "# Import mới\n",
    "\n",
    "pd.set_option('display.expand_frame_repr', False)\n",
    "pd.set_option('display.max_columns', None)\n",
    "logging.basicConfig(level=logging.INFO)\n",
    "logger = logging.getLogger(__name__)"
   ],
   "id": "d2adee86f26f2bb5",
   "outputs": [],
   "execution_count": null
  },
  {
   "metadata": {},
   "cell_type": "markdown",
   "source": "# 2. Load and summarize data",
   "id": "6a8055511dc611e7"
  },
  {
   "metadata": {},
   "cell_type": "code",
   "source": [
    "combined_df = load_data(\"../data/combined/combined_travistorrent.csv\")\n",
    "\n",
    "combined_df = process_status(combined_df, 'tr_status').copy()\n",
    "summary_df = summarize_projects(combined_df, min_rows=50000, balance_threshold=0.7)\n",
    "display(summary_df)\n",
    "selected_projects = summary_df['project'].head(10).tolist()\n",
    "dfs = {project: data for project, data in combined_df.groupby('gh_project_name')}"
   ],
   "id": "2975a17abb69556b",
   "outputs": [],
   "execution_count": null
  },
  {
   "metadata": {},
   "cell_type": "markdown",
   "source": "# 3. Analyze NaN values",
   "id": "a1a9a4c3880f9877"
  },
  {
   "metadata": {},
   "cell_type": "code",
   "source": [
    "selected_dfs = [dfs[project] for project in selected_projects if project in dfs]\n",
    "selected_projects_df = pd.concat(selected_dfs, ignore_index=True)\n",
    "nan_ratios = selected_projects_df.isna().mean().sort_values(ascending=False)\n",
    "print(\"Tỷ lệ NaN trên toàn bộ project:\")\n",
    "display(nan_ratios[nan_ratios > 0])\n",
    "\n",
    "nan_per_row = selected_projects_df.isna().sum(axis=1)\n",
    "nan_counts = nan_per_row.value_counts().sort_index()\n",
    "table_df = pd.DataFrame({\n",
    "    'NaN columns number': nan_counts.index,\n",
    "    'Row number': nan_counts.values,\n",
    "    'Ratio (%)': (nan_counts / len(selected_projects_df) * 100).round(2)\n",
    "})\n",
    "print(\"\\nTable of ratio of rows by number of NaN columns:\")\n",
    "display(table_df)\n",
    "plot_pie(table_df, 'NaN columns number', 'Ratio of rows to number of columns NaN')"
   ],
   "id": "dd8df693136bfeb9",
   "outputs": [],
   "execution_count": null
  },
  {
   "metadata": {},
   "cell_type": "markdown",
   "source": "# 4. Visualize feature",
   "id": "2f83484cf04ab1be"
  },
  {
   "metadata": {},
   "cell_type": "markdown",
   "source": "## 4.1. For 1 project",
   "id": "484bc5b0cabdeff9"
  },
  {
   "metadata": {},
   "cell_type": "code",
   "source": [
    "project = 'DataDog/dd-agent'\n",
    "df = dfs[project].copy()\n",
    "for col in ['tr_duration', 'gh_num_issue_comments', 'gh_num_pr_comments', 'tr_log_num_tests_failed']:\n",
    "    plot_line(df, col, project)"
   ],
   "id": "199873f915b72685",
   "outputs": [],
   "execution_count": null
  },
  {
   "metadata": {},
   "cell_type": "markdown",
   "source": "## 4.2. For all project",
   "id": "f61c324cf7fdfec6"
  },
  {
   "metadata": {},
   "cell_type": "code",
   "source": [
    "selected_projects_df['gh_by_core_team_member'] = selected_projects_df['gh_by_core_team_member'].replace({\n",
    "    'True': 1.0, '1.0': 1.0,\n",
    "    'False': 0.0, '0.0': 0.0\n",
    "}).astype(float).copy()\n",
    "print(\"Phân tích feature trên tất cả dự án:\")\n",
    "columns_to_plot = selected_projects_df.columns[selected_projects_df.isna().any()].tolist()\n",
    "for col in columns_to_plot:\n",
    "    plot_multi_project(selected_projects_df, col)"
   ],
   "id": "31a795c84f72065e",
   "outputs": [],
   "execution_count": null
  },
  {
   "metadata": {},
   "cell_type": "markdown",
   "source": "# 5. Processing",
   "id": "f33964703d313222"
  },
  {
   "metadata": {},
   "cell_type": "code",
   "source": [
    "sorted_df = selected_projects_df.sort_values(by=['gh_project_name', 'gh_build_started_at']).copy()\n",
    "sorted_df = sorted_df[sorted_df['tr_status'].isin(['failed', 'errored', 'passed'])]\n",
    "sorted_df['build_failed'] = sorted_df['tr_status'].map({'passed': 0, 'failed': 1, 'errored': 1})\n",
    "df_notnan = fill_nan_values(sorted_df)\n",
    "print_nan_columns(df=df_notnan)"
   ],
   "id": "45b517b1e416c922",
   "outputs": [],
   "execution_count": null
  },
  {
   "metadata": {},
   "cell_type": "markdown",
   "source": "# 6. Add new feature and merge job values",
   "id": "87b79c5c4f9b7b18"
  },
  {
   "metadata": {},
   "cell_type": "markdown",
   "source": "## 6.1 Add new feature",
   "id": "186b422c521081d3"
  },
  {
   "metadata": {},
   "cell_type": "code",
   "source": [
    "new_feature_df = add_build_features(df_notnan)\n",
    "print_nan_columns(df=new_feature_df)"
   ],
   "id": "b19709c03bd9b72c",
   "outputs": [],
   "execution_count": null
  },
  {
   "metadata": {},
   "cell_type": "code",
   "source": [
    "# Nhóm các dòng theo tr_build_id có nhiều hơn 1 dòng\n",
    "grouped = new_feature_df.groupby('tr_build_id')\n",
    "\n",
    "# Lọc các nhóm có hơn 1 dòng và không hoàn toàn giống nhau\n",
    "non_identical_duplicates = []\n",
    "\n",
    "for build_id, group in grouped:\n",
    "    if len(group) > 1:\n",
    "        # Kiểm tra xem tất cả các dòng trong group có giống nhau không\n",
    "        if not group.drop(columns='tr_build_id').duplicated().all():\n",
    "            non_identical_duplicates.append(group)\n",
    "\n",
    "# Ghép lại thành một DataFrame nếu có dòng thoả điều kiện\n",
    "if non_identical_duplicates:\n",
    "    result_df = pd.concat(non_identical_duplicates)\n",
    "    result_df.head(10) # In ra 10 dòng đầu tiên (hoặc bao nhiêu tuỳ bạn)\n",
    "else:\n",
    "    print(\"Không có dòng nào có cùng tr_build_id mà khác nội dung.\")"
   ],
   "id": "d9e79d41587ab5fa",
   "outputs": [],
   "execution_count": null
  },
  {
   "metadata": {},
   "cell_type": "code",
   "source": "result_df.head(10)",
   "id": "f54d110daa91684d",
   "outputs": [],
   "execution_count": null
  },
  {
   "metadata": {},
   "cell_type": "code",
   "source": [
    "merged_df = new_feature_df.groupby(['gh_project_name', 'gh_build_started_at', 'build_failed', 'tr_build_id'], as_index=False).agg({\n",
    "    'gh_num_issue_comments': 'sum', 'gh_num_pr_comments': 'sum', 'gh_team_size': 'mean', 'gh_sloc': 'mean',\n",
    "    'git_diff_src_churn': 'sum', 'git_diff_test_churn': 'sum', 'gh_diff_files_added': 'sum',\n",
    "    'gh_diff_files_deleted': 'sum', 'gh_diff_files_modified': 'sum', 'gh_diff_tests_added': 'sum',\n",
    "    'gh_diff_tests_deleted': 'sum', 'gh_diff_src_files': 'sum', 'gh_diff_doc_files': 'sum',\n",
    "    'gh_diff_other_files': 'sum', 'gh_num_commits_on_files_touched': 'sum', 'gh_test_lines_per_kloc': 'mean',\n",
    "    'gh_test_cases_per_kloc': 'mean', 'gh_asserts_cases_per_kloc': 'mean', 'gh_is_pr': 'max',\n",
    "    'gh_by_core_team_member': 'max', 'gh_num_commit_comments': 'sum', 'tr_log_num_tests_failed': 'sum',\n",
    "    'tr_duration': 'max',\n",
    "    # Merge các feature mới\n",
    "    'year_of_start': 'first', 'month_of_start': 'first', 'day_of_start': 'first', 'hour_of_start': 'first',\n",
    "    'elapsed_days_last_build': 'first', 'same_committer': 'max', 'proj_fail_rate_history': 'mean',\n",
    "    'proj_fail_rate_recent': 'mean', 'comm_fail_rate_history': 'mean', 'comm_fail_rate_recent': 'mean',\n",
    "    'comm_avg_experience': 'mean', 'no_config_edited': 'max',\n",
    "    'num_files_edited': 'sum', 'num_distinct_authors': 'max', 'prev_build_result': 'first', 'day_week': 'first'\n",
    "})\n",
    "merged_df.drop_duplicates(inplace=True)\n",
    "print_nan_columns(df=merged_df)"
   ],
   "id": "bc7106cba058c1b3",
   "outputs": [],
   "execution_count": null
  },
  {
   "metadata": {},
   "cell_type": "markdown",
   "source": "# 8. Encoding",
   "id": "adfc5069c6cb3360"
  },
  {
   "metadata": {},
   "cell_type": "code",
   "source": [
    "categorical_columns = []\n",
    "cyclical_time_columns = []\n",
    "periods = {\"month_of_start\": 12, \"day_of_start\": 31, \"hour_of_start\": 24, \"day_week\": 7}\n",
    "numerical_columns = [\n",
    "    \"gh_num_issue_comments\", \"gh_num_pr_comments\", \"gh_team_size\", \"gh_sloc\",\n",
    "    \"git_diff_src_churn\", \"git_diff_test_churn\", \"gh_diff_files_added\", \"gh_diff_files_deleted\",\n",
    "    \"gh_diff_files_modified\", \"gh_diff_tests_added\", \"gh_diff_tests_deleted\", \"gh_diff_src_files\",\n",
    "    \"gh_diff_doc_files\", \"gh_diff_other_files\", \"gh_num_commits_on_files_touched\",\n",
    "    \"gh_test_lines_per_kloc\", \"gh_test_cases_per_kloc\", \"gh_asserts_cases_per_kloc\",\n",
    "    \"gh_num_commit_comments\",\n",
    "    \"tr_log_num_tests_failed\", \"tr_duration\",\n",
    "    \"year_of_start\", \"elapsed_days_last_build\", \"proj_fail_rate_history\", \"proj_fail_rate_recent\",\n",
    "    \"comm_fail_rate_history\", \"comm_fail_rate_recent\", \"comm_avg_experience\",\n",
    "    \"num_files_edited\", \"num_distinct_authors\",\n",
    "    \"month_of_start\", \"day_of_start\", \"hour_of_start\", \"day_week\"\n",
    "]\n",
    "trans_df = merged_df.copy()\n",
    "trans_df_encoded, _ = encode_categorical_columns(trans_df, categorical_columns)\n",
    "trans_df_cyclical = encode_cyclical_time_features(trans_df_encoded, cyclical_time_columns, periods)\n",
    "trans_df_processed, _ = normalize_numerical_columns(trans_df_cyclical, numerical_columns)"
   ],
   "id": "d25f979518a77ab7",
   "outputs": [],
   "execution_count": null
  },
  {
   "metadata": {},
   "cell_type": "markdown",
   "source": "# 9. Analyze features importance",
   "id": "445874391e812574"
  },
  {
   "metadata": {},
   "cell_type": "code",
   "source": "trans_df_processed.columns",
   "id": "838c40edf8e03116",
   "outputs": [],
   "execution_count": null
  },
  {
   "metadata": {},
   "cell_type": "code",
   "source": "trans_df_processed.drop(columns=['tr_log_num_tests_failed'], inplace=True)",
   "id": "a3968c0bab2c565c",
   "outputs": [],
   "execution_count": null
  },
  {
   "metadata": {},
   "cell_type": "code",
   "source": [
    "print(\"Analysis of the importance of features for 'build_failed':\")\n",
    "X, y = prepare_features(trans_df_processed, target_column='build_failed')\n",
    "importance_df = aggregate_feature_importance(X, y)\n",
    "plot_feature_importance(importance_df)"
   ],
   "id": "d622873d0a0b9f6a",
   "outputs": [],
   "execution_count": null
  },
  {
   "metadata": {},
   "cell_type": "markdown",
   "source": "# !Remove low importance features (optional)",
   "id": "7792940d8d38de74"
  },
  {
   "metadata": {},
   "cell_type": "code",
   "source": [
    "final_df, list = drop_low_importance_features(X=trans_df_processed, importance_df=importance_df, threshold=0.005)\n",
    "print_nan_columns(df=final_df)"
   ],
   "id": "d231bc8f82248258",
   "outputs": [],
   "execution_count": null
  },
  {
   "metadata": {},
   "cell_type": "markdown",
   "source": "# 10. Save processed data",
   "id": "f107cd639c01bac0"
  },
  {
   "metadata": {},
   "cell_type": "code",
   "source": "saved_files = save_projects_to_files(final_df, '../data/processed-local', 'gh_project_name')",
   "id": "148e4f526e759bd8",
   "outputs": [],
   "execution_count": null
  },
  {
   "metadata": {},
   "cell_type": "code",
   "source": "final_df.columns",
   "id": "2155c431e4aa9629",
   "outputs": [],
   "execution_count": null
  },
  {
   "metadata": {},
   "cell_type": "code",
   "source": [
    "final_df.gh_project_name.unique()\n",
    "summarize_projects(final_df, min_rows=0, balance_threshold=1)"
   ],
   "id": "812ce1b7f34952dd",
   "outputs": [],
   "execution_count": null
  }
 ],
 "metadata": {
  "kernelspec": {
   "name": "python3",
   "language": "python",
   "display_name": "Python 3 (ipykernel)"
  }
 },
 "nbformat": 5,
 "nbformat_minor": 9
}
