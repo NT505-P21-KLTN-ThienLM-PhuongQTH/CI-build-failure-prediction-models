{
 "cells": [
  {
   "metadata": {},
   "cell_type": "code",
   "source": [
    "import os\n",
    "import sys\n",
    "project_root = os.path.abspath(os.path.join(os.getcwd(), \"../src\"))\n",
    "sys.path.append(project_root)\n",
    "from src.model.stacked_lstm.validation import run_online_validation, run_cross_project_validation\n",
    "import warnings\n",
    "warnings.filterwarnings(\"ignore\", category=FutureWarning, module=\"sklearn.base\")\n",
    "\n",
    "DATASET_DIR = \"../data/processed-local\""
   ],
   "id": "b5843b7f081cce7a",
   "outputs": [],
   "execution_count": null
  },
  {
   "metadata": {},
   "cell_type": "code",
   "source": [
    "# Run validations\n",
    "print(\"Running Online Validation and Selecting Bellwether...\")\n",
    "bellwether_dataset, all_datasets = run_online_validation(tuner=\"ga\", dataset_dir=DATASET_DIR)\n",
    "print(\"\\nRunning Cross-Project Validation with Selected Bellwether...\")\n",
    "run_cross_project_validation(bellwether_dataset, all_datasets, tuner=\"ga\")"
   ],
   "id": "647fdf7cce38ddeb",
   "outputs": [],
   "execution_count": null
  }
 ],
 "metadata": {
  "kernelspec": {
   "name": "python3",
   "language": "python",
   "display_name": "Python 3 (ipykernel)"
  }
 },
 "nbformat": 5,
 "nbformat_minor": 9
}
